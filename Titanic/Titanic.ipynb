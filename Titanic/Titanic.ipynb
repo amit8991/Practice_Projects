{
 "cells": [
  {
   "cell_type": "code",
   "execution_count": 4,
   "metadata": {},
   "outputs": [],
   "source": [
    "import numpy as np\n",
    "import pandas as pd\n",
    "import seaborn as sns\n",
    "import matplotlib.pyplot as plt\n",
    "import warnings\n",
    "warnings.filterwarnings('ignore')"
   ]
  },
  {
   "cell_type": "code",
   "execution_count": 5,
   "metadata": {},
   "outputs": [
    {
     "name": "stdout",
     "output_type": "stream",
     "text": [
      "     PassengerId  Survived  Pclass  \\\n",
      "0              1         0       3   \n",
      "1              2         1       1   \n",
      "2              3         1       3   \n",
      "3              4         1       1   \n",
      "4              5         0       3   \n",
      "..           ...       ...     ...   \n",
      "886          887         0       2   \n",
      "887          888         1       1   \n",
      "888          889         0       3   \n",
      "889          890         1       1   \n",
      "890          891         0       3   \n",
      "\n",
      "                                                  Name     Sex   Age  SibSp  \\\n",
      "0                              Braund, Mr. Owen Harris    male  22.0      1   \n",
      "1    Cumings, Mrs. John Bradley (Florence Briggs Th...  female  38.0      1   \n",
      "2                               Heikkinen, Miss. Laina  female  26.0      0   \n",
      "3         Futrelle, Mrs. Jacques Heath (Lily May Peel)  female  35.0      1   \n",
      "4                             Allen, Mr. William Henry    male  35.0      0   \n",
      "..                                                 ...     ...   ...    ...   \n",
      "886                              Montvila, Rev. Juozas    male  27.0      0   \n",
      "887                       Graham, Miss. Margaret Edith  female  19.0      0   \n",
      "888           Johnston, Miss. Catherine Helen \"Carrie\"  female   NaN      1   \n",
      "889                              Behr, Mr. Karl Howell    male  26.0      0   \n",
      "890                                Dooley, Mr. Patrick    male  32.0      0   \n",
      "\n",
      "     Parch            Ticket     Fare Cabin Embarked  \n",
      "0        0         A/5 21171   7.2500   NaN        S  \n",
      "1        0          PC 17599  71.2833   C85        C  \n",
      "2        0  STON/O2. 3101282   7.9250   NaN        S  \n",
      "3        0            113803  53.1000  C123        S  \n",
      "4        0            373450   8.0500   NaN        S  \n",
      "..     ...               ...      ...   ...      ...  \n",
      "886      0            211536  13.0000   NaN        S  \n",
      "887      0            112053  30.0000   B42        S  \n",
      "888      2        W./C. 6607  23.4500   NaN        S  \n",
      "889      0            111369  30.0000  C148        C  \n",
      "890      0            370376   7.7500   NaN        Q  \n",
      "\n",
      "[891 rows x 12 columns]\n"
     ]
    }
   ],
   "source": [
    "df_titanic = pd.read_csv(\"Titanic.csv\")\n",
    "print(df_titanic)"
   ]
  },
  {
   "cell_type": "code",
   "execution_count": 6,
   "metadata": {},
   "outputs": [
    {
     "data": {
      "text/html": [
       "<div>\n",
       "<style scoped>\n",
       "    .dataframe tbody tr th:only-of-type {\n",
       "        vertical-align: middle;\n",
       "    }\n",
       "\n",
       "    .dataframe tbody tr th {\n",
       "        vertical-align: top;\n",
       "    }\n",
       "\n",
       "    .dataframe thead th {\n",
       "        text-align: right;\n",
       "    }\n",
       "</style>\n",
       "<table border=\"1\" class=\"dataframe\">\n",
       "  <thead>\n",
       "    <tr style=\"text-align: right;\">\n",
       "      <th></th>\n",
       "      <th>PassengerId</th>\n",
       "      <th>Survived</th>\n",
       "      <th>Pclass</th>\n",
       "      <th>Name</th>\n",
       "      <th>Sex</th>\n",
       "      <th>Age</th>\n",
       "      <th>SibSp</th>\n",
       "      <th>Parch</th>\n",
       "      <th>Ticket</th>\n",
       "      <th>Fare</th>\n",
       "      <th>Cabin</th>\n",
       "      <th>Embarked</th>\n",
       "    </tr>\n",
       "  </thead>\n",
       "  <tbody>\n",
       "    <tr>\n",
       "      <td>0</td>\n",
       "      <td>1</td>\n",
       "      <td>0</td>\n",
       "      <td>3</td>\n",
       "      <td>Braund, Mr. Owen Harris</td>\n",
       "      <td>male</td>\n",
       "      <td>22.0</td>\n",
       "      <td>1</td>\n",
       "      <td>0</td>\n",
       "      <td>A/5 21171</td>\n",
       "      <td>7.2500</td>\n",
       "      <td>NaN</td>\n",
       "      <td>S</td>\n",
       "    </tr>\n",
       "    <tr>\n",
       "      <td>1</td>\n",
       "      <td>2</td>\n",
       "      <td>1</td>\n",
       "      <td>1</td>\n",
       "      <td>Cumings, Mrs. John Bradley (Florence Briggs Th...</td>\n",
       "      <td>female</td>\n",
       "      <td>38.0</td>\n",
       "      <td>1</td>\n",
       "      <td>0</td>\n",
       "      <td>PC 17599</td>\n",
       "      <td>71.2833</td>\n",
       "      <td>C85</td>\n",
       "      <td>C</td>\n",
       "    </tr>\n",
       "    <tr>\n",
       "      <td>2</td>\n",
       "      <td>3</td>\n",
       "      <td>1</td>\n",
       "      <td>3</td>\n",
       "      <td>Heikkinen, Miss. Laina</td>\n",
       "      <td>female</td>\n",
       "      <td>26.0</td>\n",
       "      <td>0</td>\n",
       "      <td>0</td>\n",
       "      <td>STON/O2. 3101282</td>\n",
       "      <td>7.9250</td>\n",
       "      <td>NaN</td>\n",
       "      <td>S</td>\n",
       "    </tr>\n",
       "    <tr>\n",
       "      <td>3</td>\n",
       "      <td>4</td>\n",
       "      <td>1</td>\n",
       "      <td>1</td>\n",
       "      <td>Futrelle, Mrs. Jacques Heath (Lily May Peel)</td>\n",
       "      <td>female</td>\n",
       "      <td>35.0</td>\n",
       "      <td>1</td>\n",
       "      <td>0</td>\n",
       "      <td>113803</td>\n",
       "      <td>53.1000</td>\n",
       "      <td>C123</td>\n",
       "      <td>S</td>\n",
       "    </tr>\n",
       "    <tr>\n",
       "      <td>4</td>\n",
       "      <td>5</td>\n",
       "      <td>0</td>\n",
       "      <td>3</td>\n",
       "      <td>Allen, Mr. William Henry</td>\n",
       "      <td>male</td>\n",
       "      <td>35.0</td>\n",
       "      <td>0</td>\n",
       "      <td>0</td>\n",
       "      <td>373450</td>\n",
       "      <td>8.0500</td>\n",
       "      <td>NaN</td>\n",
       "      <td>S</td>\n",
       "    </tr>\n",
       "  </tbody>\n",
       "</table>\n",
       "</div>"
      ],
      "text/plain": [
       "   PassengerId  Survived  Pclass  \\\n",
       "0            1         0       3   \n",
       "1            2         1       1   \n",
       "2            3         1       3   \n",
       "3            4         1       1   \n",
       "4            5         0       3   \n",
       "\n",
       "                                                Name     Sex   Age  SibSp  \\\n",
       "0                            Braund, Mr. Owen Harris    male  22.0      1   \n",
       "1  Cumings, Mrs. John Bradley (Florence Briggs Th...  female  38.0      1   \n",
       "2                             Heikkinen, Miss. Laina  female  26.0      0   \n",
       "3       Futrelle, Mrs. Jacques Heath (Lily May Peel)  female  35.0      1   \n",
       "4                           Allen, Mr. William Henry    male  35.0      0   \n",
       "\n",
       "   Parch            Ticket     Fare Cabin Embarked  \n",
       "0      0         A/5 21171   7.2500   NaN        S  \n",
       "1      0          PC 17599  71.2833   C85        C  \n",
       "2      0  STON/O2. 3101282   7.9250   NaN        S  \n",
       "3      0            113803  53.1000  C123        S  \n",
       "4      0            373450   8.0500   NaN        S  "
      ]
     },
     "execution_count": 6,
     "metadata": {},
     "output_type": "execute_result"
    }
   ],
   "source": [
    "df_titanic.head()"
   ]
  },
  {
   "cell_type": "code",
   "execution_count": 7,
   "metadata": {},
   "outputs": [
    {
     "data": {
      "text/html": [
       "<div>\n",
       "<style scoped>\n",
       "    .dataframe tbody tr th:only-of-type {\n",
       "        vertical-align: middle;\n",
       "    }\n",
       "\n",
       "    .dataframe tbody tr th {\n",
       "        vertical-align: top;\n",
       "    }\n",
       "\n",
       "    .dataframe thead th {\n",
       "        text-align: right;\n",
       "    }\n",
       "</style>\n",
       "<table border=\"1\" class=\"dataframe\">\n",
       "  <thead>\n",
       "    <tr style=\"text-align: right;\">\n",
       "      <th></th>\n",
       "      <th>PassengerId</th>\n",
       "      <th>Survived</th>\n",
       "      <th>Pclass</th>\n",
       "      <th>Age</th>\n",
       "      <th>SibSp</th>\n",
       "      <th>Parch</th>\n",
       "      <th>Fare</th>\n",
       "    </tr>\n",
       "  </thead>\n",
       "  <tbody>\n",
       "    <tr>\n",
       "      <td>count</td>\n",
       "      <td>891.000000</td>\n",
       "      <td>891.000000</td>\n",
       "      <td>891.000000</td>\n",
       "      <td>714.000000</td>\n",
       "      <td>891.000000</td>\n",
       "      <td>891.000000</td>\n",
       "      <td>891.000000</td>\n",
       "    </tr>\n",
       "    <tr>\n",
       "      <td>mean</td>\n",
       "      <td>446.000000</td>\n",
       "      <td>0.383838</td>\n",
       "      <td>2.308642</td>\n",
       "      <td>29.699118</td>\n",
       "      <td>0.523008</td>\n",
       "      <td>0.381594</td>\n",
       "      <td>32.204208</td>\n",
       "    </tr>\n",
       "    <tr>\n",
       "      <td>std</td>\n",
       "      <td>257.353842</td>\n",
       "      <td>0.486592</td>\n",
       "      <td>0.836071</td>\n",
       "      <td>14.526497</td>\n",
       "      <td>1.102743</td>\n",
       "      <td>0.806057</td>\n",
       "      <td>49.693429</td>\n",
       "    </tr>\n",
       "    <tr>\n",
       "      <td>min</td>\n",
       "      <td>1.000000</td>\n",
       "      <td>0.000000</td>\n",
       "      <td>1.000000</td>\n",
       "      <td>0.420000</td>\n",
       "      <td>0.000000</td>\n",
       "      <td>0.000000</td>\n",
       "      <td>0.000000</td>\n",
       "    </tr>\n",
       "    <tr>\n",
       "      <td>25%</td>\n",
       "      <td>223.500000</td>\n",
       "      <td>0.000000</td>\n",
       "      <td>2.000000</td>\n",
       "      <td>20.125000</td>\n",
       "      <td>0.000000</td>\n",
       "      <td>0.000000</td>\n",
       "      <td>7.910400</td>\n",
       "    </tr>\n",
       "    <tr>\n",
       "      <td>50%</td>\n",
       "      <td>446.000000</td>\n",
       "      <td>0.000000</td>\n",
       "      <td>3.000000</td>\n",
       "      <td>28.000000</td>\n",
       "      <td>0.000000</td>\n",
       "      <td>0.000000</td>\n",
       "      <td>14.454200</td>\n",
       "    </tr>\n",
       "    <tr>\n",
       "      <td>75%</td>\n",
       "      <td>668.500000</td>\n",
       "      <td>1.000000</td>\n",
       "      <td>3.000000</td>\n",
       "      <td>38.000000</td>\n",
       "      <td>1.000000</td>\n",
       "      <td>0.000000</td>\n",
       "      <td>31.000000</td>\n",
       "    </tr>\n",
       "    <tr>\n",
       "      <td>max</td>\n",
       "      <td>891.000000</td>\n",
       "      <td>1.000000</td>\n",
       "      <td>3.000000</td>\n",
       "      <td>80.000000</td>\n",
       "      <td>8.000000</td>\n",
       "      <td>6.000000</td>\n",
       "      <td>512.329200</td>\n",
       "    </tr>\n",
       "  </tbody>\n",
       "</table>\n",
       "</div>"
      ],
      "text/plain": [
       "       PassengerId    Survived      Pclass         Age       SibSp  \\\n",
       "count   891.000000  891.000000  891.000000  714.000000  891.000000   \n",
       "mean    446.000000    0.383838    2.308642   29.699118    0.523008   \n",
       "std     257.353842    0.486592    0.836071   14.526497    1.102743   \n",
       "min       1.000000    0.000000    1.000000    0.420000    0.000000   \n",
       "25%     223.500000    0.000000    2.000000   20.125000    0.000000   \n",
       "50%     446.000000    0.000000    3.000000   28.000000    0.000000   \n",
       "75%     668.500000    1.000000    3.000000   38.000000    1.000000   \n",
       "max     891.000000    1.000000    3.000000   80.000000    8.000000   \n",
       "\n",
       "            Parch        Fare  \n",
       "count  891.000000  891.000000  \n",
       "mean     0.381594   32.204208  \n",
       "std      0.806057   49.693429  \n",
       "min      0.000000    0.000000  \n",
       "25%      0.000000    7.910400  \n",
       "50%      0.000000   14.454200  \n",
       "75%      0.000000   31.000000  \n",
       "max      6.000000  512.329200  "
      ]
     },
     "execution_count": 7,
     "metadata": {},
     "output_type": "execute_result"
    }
   ],
   "source": [
    "df_titanic.describe()"
   ]
  },
  {
   "cell_type": "code",
   "execution_count": 8,
   "metadata": {},
   "outputs": [
    {
     "data": {
      "text/plain": [
       "PassengerId      int64\n",
       "Survived         int64\n",
       "Pclass           int64\n",
       "Name            object\n",
       "Sex             object\n",
       "Age            float64\n",
       "SibSp            int64\n",
       "Parch            int64\n",
       "Ticket          object\n",
       "Fare           float64\n",
       "Cabin           object\n",
       "Embarked        object\n",
       "dtype: object"
      ]
     },
     "execution_count": 8,
     "metadata": {},
     "output_type": "execute_result"
    }
   ],
   "source": [
    "df_titanic.dtypes"
   ]
  },
  {
   "cell_type": "code",
   "execution_count": 9,
   "metadata": {},
   "outputs": [
    {
     "data": {
      "text/plain": [
       "PassengerId      0\n",
       "Survived         0\n",
       "Pclass           0\n",
       "Name             0\n",
       "Sex              0\n",
       "Age            177\n",
       "SibSp            0\n",
       "Parch            0\n",
       "Ticket           0\n",
       "Fare             0\n",
       "Cabin          687\n",
       "Embarked         2\n",
       "dtype: int64"
      ]
     },
     "execution_count": 9,
     "metadata": {},
     "output_type": "execute_result"
    }
   ],
   "source": [
    "df_titanic.isnull().sum()"
   ]
  },
  {
   "cell_type": "code",
   "execution_count": 10,
   "metadata": {},
   "outputs": [
    {
     "data": {
      "text/html": [
       "<div>\n",
       "<style scoped>\n",
       "    .dataframe tbody tr th:only-of-type {\n",
       "        vertical-align: middle;\n",
       "    }\n",
       "\n",
       "    .dataframe tbody tr th {\n",
       "        vertical-align: top;\n",
       "    }\n",
       "\n",
       "    .dataframe thead th {\n",
       "        text-align: right;\n",
       "    }\n",
       "</style>\n",
       "<table border=\"1\" class=\"dataframe\">\n",
       "  <thead>\n",
       "    <tr style=\"text-align: right;\">\n",
       "      <th></th>\n",
       "      <th>PassengerId</th>\n",
       "      <th>Survived</th>\n",
       "      <th>Pclass</th>\n",
       "      <th>Age</th>\n",
       "      <th>SibSp</th>\n",
       "      <th>Parch</th>\n",
       "      <th>Fare</th>\n",
       "    </tr>\n",
       "  </thead>\n",
       "  <tbody>\n",
       "    <tr>\n",
       "      <td>PassengerId</td>\n",
       "      <td>1.000000</td>\n",
       "      <td>-0.005007</td>\n",
       "      <td>-0.035144</td>\n",
       "      <td>0.036847</td>\n",
       "      <td>-0.057527</td>\n",
       "      <td>-0.001652</td>\n",
       "      <td>0.012658</td>\n",
       "    </tr>\n",
       "    <tr>\n",
       "      <td>Survived</td>\n",
       "      <td>-0.005007</td>\n",
       "      <td>1.000000</td>\n",
       "      <td>-0.338481</td>\n",
       "      <td>-0.077221</td>\n",
       "      <td>-0.035322</td>\n",
       "      <td>0.081629</td>\n",
       "      <td>0.257307</td>\n",
       "    </tr>\n",
       "    <tr>\n",
       "      <td>Pclass</td>\n",
       "      <td>-0.035144</td>\n",
       "      <td>-0.338481</td>\n",
       "      <td>1.000000</td>\n",
       "      <td>-0.369226</td>\n",
       "      <td>0.083081</td>\n",
       "      <td>0.018443</td>\n",
       "      <td>-0.549500</td>\n",
       "    </tr>\n",
       "    <tr>\n",
       "      <td>Age</td>\n",
       "      <td>0.036847</td>\n",
       "      <td>-0.077221</td>\n",
       "      <td>-0.369226</td>\n",
       "      <td>1.000000</td>\n",
       "      <td>-0.308247</td>\n",
       "      <td>-0.189119</td>\n",
       "      <td>0.096067</td>\n",
       "    </tr>\n",
       "    <tr>\n",
       "      <td>SibSp</td>\n",
       "      <td>-0.057527</td>\n",
       "      <td>-0.035322</td>\n",
       "      <td>0.083081</td>\n",
       "      <td>-0.308247</td>\n",
       "      <td>1.000000</td>\n",
       "      <td>0.414838</td>\n",
       "      <td>0.159651</td>\n",
       "    </tr>\n",
       "    <tr>\n",
       "      <td>Parch</td>\n",
       "      <td>-0.001652</td>\n",
       "      <td>0.081629</td>\n",
       "      <td>0.018443</td>\n",
       "      <td>-0.189119</td>\n",
       "      <td>0.414838</td>\n",
       "      <td>1.000000</td>\n",
       "      <td>0.216225</td>\n",
       "    </tr>\n",
       "    <tr>\n",
       "      <td>Fare</td>\n",
       "      <td>0.012658</td>\n",
       "      <td>0.257307</td>\n",
       "      <td>-0.549500</td>\n",
       "      <td>0.096067</td>\n",
       "      <td>0.159651</td>\n",
       "      <td>0.216225</td>\n",
       "      <td>1.000000</td>\n",
       "    </tr>\n",
       "  </tbody>\n",
       "</table>\n",
       "</div>"
      ],
      "text/plain": [
       "             PassengerId  Survived    Pclass       Age     SibSp     Parch  \\\n",
       "PassengerId     1.000000 -0.005007 -0.035144  0.036847 -0.057527 -0.001652   \n",
       "Survived       -0.005007  1.000000 -0.338481 -0.077221 -0.035322  0.081629   \n",
       "Pclass         -0.035144 -0.338481  1.000000 -0.369226  0.083081  0.018443   \n",
       "Age             0.036847 -0.077221 -0.369226  1.000000 -0.308247 -0.189119   \n",
       "SibSp          -0.057527 -0.035322  0.083081 -0.308247  1.000000  0.414838   \n",
       "Parch          -0.001652  0.081629  0.018443 -0.189119  0.414838  1.000000   \n",
       "Fare            0.012658  0.257307 -0.549500  0.096067  0.159651  0.216225   \n",
       "\n",
       "                 Fare  \n",
       "PassengerId  0.012658  \n",
       "Survived     0.257307  \n",
       "Pclass      -0.549500  \n",
       "Age          0.096067  \n",
       "SibSp        0.159651  \n",
       "Parch        0.216225  \n",
       "Fare         1.000000  "
      ]
     },
     "execution_count": 10,
     "metadata": {},
     "output_type": "execute_result"
    }
   ],
   "source": [
    "df_titanic.corr()"
   ]
  },
  {
   "cell_type": "code",
   "execution_count": 11,
   "metadata": {},
   "outputs": [
    {
     "data": {
      "text/plain": [
       "<matplotlib.axes._subplots.AxesSubplot at 0x15493bc8d88>"
      ]
     },
     "execution_count": 11,
     "metadata": {},
     "output_type": "execute_result"
    },
    {
     "data": {
      "image/png": "[encoded data removed]",
      "text/plain": [
       "<Figure size 432x288 with 2 Axes>"
      ]
     },
     "metadata": {
      "needs_background": "light"
     },
     "output_type": "display_data"
    }
   ],
   "source": [
    "sns.heatmap(df_titanic.isnull(),annot=True)"
   ]
  },
  {
   "cell_type": "code",
   "execution_count": 13,
   "metadata": {},
   "outputs": [
    {
     "data": {
      "image/png": "[encoded data removed]",
      "text/plain": [
       "<Figure size 432x288 with 1 Axes>"
      ]
     },
     "metadata": {
      "needs_background": "light"
     },
     "output_type": "display_data"
    }
   ],
   "source": [
    "sns.countplot(x=\"Survived\",data=df_titanic)\n",
    "plt.show()"
   ]
  },
  {
   "cell_type": "code",
   "execution_count": 15,
   "metadata": {},
   "outputs": [
    {
     "data": {
      "image/png": "[encoded data removed]",
      "text/plain": [
       "<Figure size 432x288 with 1 Axes>"
      ]
     },
     "metadata": {
      "needs_background": "light"
     },
     "output_type": "display_data"
    }
   ],
   "source": [
    "sns.countplot(x=\"Survived\",hue=\"Sex\" ,data=df_titanic)\n",
    "plt.show()"
   ]
  },
  {
   "cell_type": "code",
   "execution_count": 17,
   "metadata": {},
   "outputs": [
    {
     "data": {
      "image/png": "[encoded data removed]",
      "text/plain": [
       "<Figure size 432x288 with 1 Axes>"
      ]
     },
     "metadata": {
      "needs_background": "light"
     },
     "output_type": "display_data"
    }
   ],
   "source": [
    "sns.countplot(x=\"Survived\",hue=\"Pclass\" ,data=df_titanic)\n",
    "plt.show()"
   ]
  },
  {
   "cell_type": "code",
   "execution_count": 18,
   "metadata": {},
   "outputs": [
    {
     "data": {
      "image/png": "[encoded data removed]",
      "text/plain": [
       "<Figure size 432x288 with 1 Axes>"
      ]
     },
     "metadata": {
      "needs_background": "light"
     },
     "output_type": "display_data"
    }
   ],
   "source": [
    "plt.hist(x=\"Age\",bins=10,data=df_titanic)\n",
    "plt.show()"
   ]
  },
  {
   "cell_type": "code",
   "execution_count": 19,
   "metadata": {},
   "outputs": [
    {
     "data": {
      "image/png": "[encoded data removed]",
      "text/plain": [
       "<Figure size 432x288 with 1 Axes>"
      ]
     },
     "metadata": {
      "needs_background": "light"
     },
     "output_type": "display_data"
    }
   ],
   "source": [
    "sns.countplot(x=\"SibSp\",data=df_titanic)\n",
    "plt.show()"
   ]
  },
  {
   "cell_type": "code",
   "execution_count": 20,
   "metadata": {},
   "outputs": [
    {
     "data": {
      "image/png": "[encoded data removed]",
      "text/plain": [
       "<Figure size 432x288 with 1 Axes>"
      ]
     },
     "metadata": {
      "needs_background": "light"
     },
     "output_type": "display_data"
    }
   ],
   "source": [
    "sns.countplot(x=\"Parch\",data=df_titanic)\n",
    "plt.show()"
   ]
  },
  {
   "cell_type": "code",
   "execution_count": 22,
   "metadata": {},
   "outputs": [
    {
     "data": {
      "image/png": "[encoded data removed]",
      "text/plain": [
       "<Figure size 432x288 with 1 Axes>"
      ]
     },
     "metadata": {
      "needs_background": "light"
     },
     "output_type": "display_data"
    }
   ],
   "source": [
    "plt.hist(x=\"Fare\",bins=10,data=df_titanic)\n",
    "plt.show()"
   ]
  },
  {
   "cell_type": "code",
   "execution_count": 23,
   "metadata": {},
   "outputs": [
    {
     "data": {
      "text/plain": [
       "<matplotlib.axes._subplots.AxesSubplot at 0x1549eee4188>"
      ]
     },
     "execution_count": 23,
     "metadata": {},
     "output_type": "execute_result"
    },
    {
     "data": {
      "image/png": "[encoded data removed]",
      "text/plain": [
       "<Figure size 432x288 with 1 Axes>"
      ]
     },
     "metadata": {
      "needs_background": "light"
     },
     "output_type": "display_data"
    }
   ],
   "source": [
    "df_titanic['Age'].plot.box()"
   ]
  },
  {
   "cell_type": "code",
   "execution_count": 24,
   "metadata": {},
   "outputs": [
    {
     "data": {
      "text/plain": [
       "<matplotlib.axes._subplots.AxesSubplot at 0x1549efe2a08>"
      ]
     },
     "execution_count": 24,
     "metadata": {},
     "output_type": "execute_result"
    },
    {
     "data": {
      "image/png": "[encoded data removed]",
      "text/plain": [
       "<Figure size 432x288 with 1 Axes>"
      ]
     },
     "metadata": {
      "needs_background": "light"
     },
     "output_type": "display_data"
    }
   ],
   "source": [
    "df_titanic['Pclass'].plot.box()"
   ]
  },
  {
   "cell_type": "code",
   "execution_count": 25,
   "metadata": {},
   "outputs": [],
   "source": [
    "df_titanic['Age'].fillna(df_titanic['Age'].mean(),inplace=True)"
   ]
  },
  {
   "cell_type": "code",
   "execution_count": 26,
   "metadata": {},
   "outputs": [],
   "source": [
    "df_titanic['Embarked'].fillna(df_titanic['Embarked'].mode()[0],inplace=True)"
   ]
  },
  {
   "cell_type": "code",
   "execution_count": 28,
   "metadata": {},
   "outputs": [
    {
     "data": {
      "text/plain": [
       "PassengerId      0\n",
       "Survived         0\n",
       "Pclass           0\n",
       "Name             0\n",
       "Sex              0\n",
       "Age              0\n",
       "SibSp            0\n",
       "Parch            0\n",
       "Ticket           0\n",
       "Fare             0\n",
       "Cabin          687\n",
       "Embarked         0\n",
       "dtype: int64"
      ]
     },
     "execution_count": 28,
     "metadata": {},
     "output_type": "execute_result"
    }
   ],
   "source": [
    "df_titanic.isnull().sum()"
   ]
  },
  {
   "cell_type": "code",
   "execution_count": 30,
   "metadata": {},
   "outputs": [],
   "source": [
    "df_titanic.drop(columns=['Cabin'],axis=1,inplace=True)"
   ]
  },
  {
   "cell_type": "code",
   "execution_count": 32,
   "metadata": {},
   "outputs": [
    {
     "name": "stdout",
     "output_type": "stream",
     "text": [
      "<class 'pandas.core.frame.DataFrame'>\n",
      "RangeIndex: 891 entries, 0 to 890\n",
      "Data columns (total 11 columns):\n",
      "PassengerId    891 non-null int64\n",
      "Survived       891 non-null int64\n",
      "Pclass         891 non-null int64\n",
      "Name           891 non-null object\n",
      "Sex            891 non-null object\n",
      "Age            891 non-null float64\n",
      "SibSp          891 non-null int64\n",
      "Parch          891 non-null int64\n",
      "Ticket         891 non-null object\n",
      "Fare           891 non-null float64\n",
      "Embarked       891 non-null object\n",
      "dtypes: float64(2), int64(5), object(4)\n",
      "memory usage: 76.7+ KB\n"
     ]
    }
   ],
   "source": [
    "df_titanic.info()"
   ]
  },
  {
   "cell_type": "code",
   "execution_count": 33,
   "metadata": {},
   "outputs": [],
   "source": [
    "sex = pd.get_dummies(df_titanic['Sex'],drop_first=True)\n",
    "embark = pd.get_dummies(df_titanic['Embarked'],drop_first=True)"
   ]
  },
  {
   "cell_type": "code",
   "execution_count": 34,
   "metadata": {},
   "outputs": [],
   "source": [
    "df_titanic.drop(['Sex','Embarked','Name','Ticket'],axis=1,inplace=True)"
   ]
  },
  {
   "cell_type": "code",
   "execution_count": 35,
   "metadata": {},
   "outputs": [],
   "source": [
    "df_titanic = pd.concat([df_titanic,sex,embark],axis=1)"
   ]
  },
  {
   "cell_type": "code",
   "execution_count": 36,
   "metadata": {},
   "outputs": [
    {
     "data": {
      "text/html": [
       "<div>\n",
       "<style scoped>\n",
       "    .dataframe tbody tr th:only-of-type {\n",
       "        vertical-align: middle;\n",
       "    }\n",
       "\n",
       "    .dataframe tbody tr th {\n",
       "        vertical-align: top;\n",
       "    }\n",
       "\n",
       "    .dataframe thead th {\n",
       "        text-align: right;\n",
       "    }\n",
       "</style>\n",
       "<table border=\"1\" class=\"dataframe\">\n",
       "  <thead>\n",
       "    <tr style=\"text-align: right;\">\n",
       "      <th></th>\n",
       "      <th>PassengerId</th>\n",
       "      <th>Survived</th>\n",
       "      <th>Pclass</th>\n",
       "      <th>Age</th>\n",
       "      <th>SibSp</th>\n",
       "      <th>Parch</th>\n",
       "      <th>Fare</th>\n",
       "      <th>male</th>\n",
       "      <th>Q</th>\n",
       "      <th>S</th>\n",
       "    </tr>\n",
       "  </thead>\n",
       "  <tbody>\n",
       "    <tr>\n",
       "      <td>0</td>\n",
       "      <td>1</td>\n",
       "      <td>0</td>\n",
       "      <td>3</td>\n",
       "      <td>22.0</td>\n",
       "      <td>1</td>\n",
       "      <td>0</td>\n",
       "      <td>7.2500</td>\n",
       "      <td>1</td>\n",
       "      <td>0</td>\n",
       "      <td>1</td>\n",
       "    </tr>\n",
       "    <tr>\n",
       "      <td>1</td>\n",
       "      <td>2</td>\n",
       "      <td>1</td>\n",
       "      <td>1</td>\n",
       "      <td>38.0</td>\n",
       "      <td>1</td>\n",
       "      <td>0</td>\n",
       "      <td>71.2833</td>\n",
       "      <td>0</td>\n",
       "      <td>0</td>\n",
       "      <td>0</td>\n",
       "    </tr>\n",
       "    <tr>\n",
       "      <td>2</td>\n",
       "      <td>3</td>\n",
       "      <td>1</td>\n",
       "      <td>3</td>\n",
       "      <td>26.0</td>\n",
       "      <td>0</td>\n",
       "      <td>0</td>\n",
       "      <td>7.9250</td>\n",
       "      <td>0</td>\n",
       "      <td>0</td>\n",
       "      <td>1</td>\n",
       "    </tr>\n",
       "    <tr>\n",
       "      <td>3</td>\n",
       "      <td>4</td>\n",
       "      <td>1</td>\n",
       "      <td>1</td>\n",
       "      <td>35.0</td>\n",
       "      <td>1</td>\n",
       "      <td>0</td>\n",
       "      <td>53.1000</td>\n",
       "      <td>0</td>\n",
       "      <td>0</td>\n",
       "      <td>1</td>\n",
       "    </tr>\n",
       "    <tr>\n",
       "      <td>4</td>\n",
       "      <td>5</td>\n",
       "      <td>0</td>\n",
       "      <td>3</td>\n",
       "      <td>35.0</td>\n",
       "      <td>0</td>\n",
       "      <td>0</td>\n",
       "      <td>8.0500</td>\n",
       "      <td>1</td>\n",
       "      <td>0</td>\n",
       "      <td>1</td>\n",
       "    </tr>\n",
       "  </tbody>\n",
       "</table>\n",
       "</div>"
      ],
      "text/plain": [
       "   PassengerId  Survived  Pclass   Age  SibSp  Parch     Fare  male  Q  S\n",
       "0            1         0       3  22.0      1      0   7.2500     1  0  1\n",
       "1            2         1       1  38.0      1      0  71.2833     0  0  0\n",
       "2            3         1       3  26.0      0      0   7.9250     0  0  1\n",
       "3            4         1       1  35.0      1      0  53.1000     0  0  1\n",
       "4            5         0       3  35.0      0      0   8.0500     1  0  1"
      ]
     },
     "execution_count": 36,
     "metadata": {},
     "output_type": "execute_result"
    }
   ],
   "source": [
    "df_titanic.head()"
   ]
  },
  {
   "cell_type": "code",
   "execution_count": 40,
   "metadata": {},
   "outputs": [],
   "source": [
    "df_x=df_titanic.drop(columns=[\"Survived\"])\n",
    "df_y=df_titanic[[\"Survived\"]]"
   ]
  },
  {
   "cell_type": "code",
   "execution_count": 41,
   "metadata": {},
   "outputs": [],
   "source": [
    "from sklearn.linear_model import LogisticRegression\n",
    "from sklearn.tree import DecisionTreeClassifier\n",
    "from sklearn.ensemble import RandomForestClassifier\n",
    "from sklearn.svm import SVC\n",
    "from sklearn.neighbors import KNeighborsClassifier\n",
    "from sklearn.model_selection import train_test_split"
   ]
  },
  {
   "cell_type": "code",
   "execution_count": 49,
   "metadata": {},
   "outputs": [],
   "source": [
    "from sklearn.metrics import f1_score\n",
    "from sklearn.model_selection import train_test_split\n",
    "def maxf1_score(clf,df_x,y):\n",
    "    maxf=0\n",
    "    rs=0\n",
    "    for r_state in range(42,100):\n",
    "        x_train,x_test,y_train,y_test=train_test_split(df_x,df_y,random_state = r_state,test_size=0.20)\n",
    "        clf.fit(x_train,y_train)\n",
    "        y_pred=clf.predict(x_test)\n",
    "        tmp=f1_score(y_test,y_pred)\n",
    "        print(\"random state :\",r_state,\" and f1 score: \",tmp)\n",
    "        if tmp>maxf:\n",
    "            maxf=tmp\n",
    "            rs=r_state\n",
    "    print(\"maximum f1_score is at random state :\",rs,\" and it is :\",maxf)"
   ]
  },
  {
   "cell_type": "code",
   "execution_count": 50,
   "metadata": {},
   "outputs": [
    {
     "name": "stdout",
     "output_type": "stream",
     "text": [
      "random state : 42  and f1 score:  0.7517730496453902\n",
      "random state : 43  and f1 score:  0.6229508196721311\n",
      "random state : 44  and f1 score:  0.6906474820143884\n",
      "random state : 45  and f1 score:  0.7642276422764228\n",
      "random state : 46  and f1 score:  0.7681159420289856\n",
      "random state : 47  and f1 score:  0.744186046511628\n",
      "random state : 48  and f1 score:  0.7482014388489209\n",
      "random state : 49  and f1 score:  0.7286821705426355\n",
      "random state : 50  and f1 score:  0.7375886524822695\n",
      "random state : 51  and f1 score:  0.671875\n",
      "random state : 52  and f1 score:  0.7333333333333333\n",
      "random state : 53  and f1 score:  0.7343750000000001\n",
      "random state : 54  and f1 score:  0.7175572519083969\n",
      "random state : 55  and f1 score:  0.7022900763358778\n",
      "random state : 56  and f1 score:  0.7479674796747968\n",
      "random state : 57  and f1 score:  0.7218045112781954\n",
      "random state : 58  and f1 score:  0.7234042553191489\n",
      "random state : 59  and f1 score:  0.7123287671232876\n",
      "random state : 60  and f1 score:  0.7058823529411764\n",
      "random state : 61  and f1 score:  0.7086614173228347\n",
      "random state : 62  and f1 score:  0.7259259259259259\n",
      "random state : 63  and f1 score:  0.7887323943661972\n",
      "random state : 64  and f1 score:  0.7638888888888888\n",
      "random state : 65  and f1 score:  0.7343749999999999\n",
      "random state : 66  and f1 score:  0.6721311475409837\n",
      "random state : 67  and f1 score:  0.7619047619047618\n",
      "random state : 68  and f1 score:  0.7272727272727273\n",
      "random state : 69  and f1 score:  0.7441860465116278\n",
      "random state : 70  and f1 score:  0.7518796992481203\n",
      "random state : 71  and f1 score:  0.7478260869565218\n",
      "random state : 72  and f1 score:  0.7651006711409396\n",
      "random state : 73  and f1 score:  0.7142857142857142\n",
      "random state : 74  and f1 score:  0.7727272727272727\n",
      "random state : 75  and f1 score:  0.6324786324786326\n",
      "random state : 76  and f1 score:  0.7786259541984734\n",
      "random state : 77  and f1 score:  0.6724137931034484\n",
      "random state : 78  and f1 score:  0.7938931297709922\n",
      "random state : 79  and f1 score:  0.704\n",
      "random state : 80  and f1 score:  0.7111111111111111\n",
      "random state : 81  and f1 score:  0.64\n",
      "random state : 82  and f1 score:  0.6610169491525424\n",
      "random state : 83  and f1 score:  0.7049180327868851\n",
      "random state : 84  and f1 score:  0.6461538461538463\n",
      "random state : 85  and f1 score:  0.7096774193548386\n",
      "random state : 86  and f1 score:  0.7482993197278911\n",
      "random state : 87  and f1 score:  0.7480916030534351\n",
      "random state : 88  and f1 score:  0.7441860465116278\n",
      "random state : 89  and f1 score:  0.7540983606557378\n",
      "random state : 90  and f1 score:  0.6842105263157895\n",
      "random state : 91  and f1 score:  0.6290322580645161\n",
      "random state : 92  and f1 score:  0.706766917293233\n",
      "random state : 93  and f1 score:  0.7741935483870968\n",
      "random state : 94  and f1 score:  0.6949152542372882\n",
      "random state : 95  and f1 score:  0.736\n",
      "random state : 96  and f1 score:  0.6727272727272727\n",
      "random state : 97  and f1 score:  0.7079646017699115\n",
      "random state : 98  and f1 score:  0.7101449275362318\n",
      "random state : 99  and f1 score:  0.6456692913385826\n",
      "maximum f1_score is at random state : 78  and it is : 0.7938931297709922\n"
     ]
    }
   ],
   "source": [
    "from sklearn.linear_model import LogisticRegression\n",
    "lg=LogisticRegression()\n",
    "final_r_state=maxf1_score(lg,df_x,df_y)"
   ]
  },
  {
   "cell_type": "code",
   "execution_count": 53,
   "metadata": {},
   "outputs": [
    {
     "name": "stdout",
     "output_type": "stream",
     "text": [
      "0.8491620111731844\n",
      "[[100  16]\n",
      " [ 11  52]]\n",
      "              precision    recall  f1-score   support\n",
      "\n",
      "           0       0.90      0.86      0.88       116\n",
      "           1       0.76      0.83      0.79        63\n",
      "\n",
      "    accuracy                           0.85       179\n",
      "   macro avg       0.83      0.84      0.84       179\n",
      "weighted avg       0.85      0.85      0.85       179\n",
      "\n"
     ]
    }
   ],
   "source": [
    "from sklearn.metrics import confusion_matrix\n",
    "from sklearn.metrics import classification_report\n",
    "from sklearn.metrics import accuracy_score\n",
    "lg=LogisticRegression()\n",
    "x_train,x_test,y_train,y_test=train_test_split(df_x, df_y,random_state = 78,test_size=0.20)\n",
    "lg.fit(x_train,y_train)\n",
    "predlg=lg.predict(x_test)\n",
    "print(accuracy_score(y_test,predlg))\n",
    "print(confusion_matrix(y_test,predlg))\n",
    "print(classification_report(y_test,predlg))"
   ]
  },
  {
   "cell_type": "code",
   "execution_count": 54,
   "metadata": {},
   "outputs": [
    {
     "name": "stdout",
     "output_type": "stream",
     "text": [
      "random state : 42  and f1 score:  0.6891891891891891\n",
      "random state : 43  and f1 score:  0.6666666666666666\n",
      "random state : 44  and f1 score:  0.6363636363636364\n",
      "random state : 45  and f1 score:  0.7555555555555556\n",
      "random state : 46  and f1 score:  0.762589928057554\n",
      "random state : 47  and f1 score:  0.6573426573426574\n",
      "random state : 48  and f1 score:  0.6164383561643835\n",
      "random state : 49  and f1 score:  0.671875\n",
      "random state : 50  and f1 score:  0.6711409395973156\n",
      "random state : 51  and f1 score:  0.7092198581560283\n",
      "random state : 52  and f1 score:  0.6567164179104478\n",
      "random state : 53  and f1 score:  0.5970149253731343\n",
      "random state : 54  and f1 score:  0.7050359712230216\n",
      "random state : 55  and f1 score:  0.6370370370370371\n",
      "random state : 56  and f1 score:  0.696969696969697\n",
      "random state : 57  and f1 score:  0.6896551724137931\n",
      "random state : 58  and f1 score:  0.6666666666666667\n",
      "random state : 59  and f1 score:  0.6666666666666666\n",
      "random state : 60  and f1 score:  0.6530612244897959\n",
      "random state : 61  and f1 score:  0.676470588235294\n",
      "random state : 62  and f1 score:  0.6896551724137931\n",
      "random state : 63  and f1 score:  0.689655172413793\n",
      "random state : 64  and f1 score:  0.6993006993006993\n",
      "random state : 65  and f1 score:  0.6818181818181818\n",
      "random state : 66  and f1 score:  0.6719999999999999\n",
      "random state : 67  and f1 score:  0.64\n",
      "random state : 68  and f1 score:  0.6478873239436619\n",
      "random state : 69  and f1 score:  0.7\n",
      "random state : 70  and f1 score:  0.7019867549668874\n",
      "random state : 71  and f1 score:  0.6218487394957982\n",
      "random state : 72  and f1 score:  0.7239263803680981\n",
      "random state : 73  and f1 score:  0.7213114754098362\n",
      "random state : 74  and f1 score:  0.676470588235294\n",
      "random state : 75  and f1 score:  0.5801526717557252\n",
      "random state : 76  and f1 score:  0.7259259259259259\n",
      "random state : 77  and f1 score:  0.6612903225806452\n",
      "random state : 78  and f1 score:  0.6285714285714286\n",
      "random state : 79  and f1 score:  0.6917293233082707\n",
      "random state : 80  and f1 score:  0.7066666666666668\n",
      "random state : 81  and f1 score:  0.6518518518518518\n",
      "random state : 82  and f1 score:  0.6\n",
      "random state : 83  and f1 score:  0.65625\n",
      "random state : 84  and f1 score:  0.6617647058823529\n",
      "random state : 85  and f1 score:  0.6666666666666666\n",
      "random state : 86  and f1 score:  0.6973684210526315\n",
      "random state : 87  and f1 score:  0.7050359712230215\n",
      "random state : 88  and f1 score:  0.6617647058823529\n",
      "random state : 89  and f1 score:  0.6615384615384616\n",
      "random state : 90  and f1 score:  0.6412213740458016\n",
      "random state : 91  and f1 score:  0.7272727272727273\n",
      "random state : 92  and f1 score:  0.647887323943662\n",
      "random state : 93  and f1 score:  0.7424242424242424\n",
      "random state : 94  and f1 score:  0.6853146853146853\n",
      "random state : 95  and f1 score:  0.7092198581560283\n",
      "random state : 96  and f1 score:  0.5714285714285714\n",
      "random state : 97  and f1 score:  0.6106870229007635\n",
      "random state : 98  and f1 score:  0.6802721088435374\n",
      "random state : 99  and f1 score:  0.7101449275362319\n",
      "maximum f1_score is at random state : 46  and it is : 0.762589928057554\n"
     ]
    }
   ],
   "source": [
    "from sklearn.tree import DecisionTreeClassifier\n",
    "dct=DecisionTreeClassifier()\n",
    "maxf1_score(dct,df_x,df_y)"
   ]
  },
  {
   "cell_type": "code",
   "execution_count": 55,
   "metadata": {},
   "outputs": [
    {
     "name": "stdout",
     "output_type": "stream",
     "text": [
      "0.7988826815642458\n",
      "[[89 15]\n",
      " [21 54]]\n",
      "              precision    recall  f1-score   support\n",
      "\n",
      "           0       0.81      0.86      0.83       104\n",
      "           1       0.78      0.72      0.75        75\n",
      "\n",
      "    accuracy                           0.80       179\n",
      "   macro avg       0.80      0.79      0.79       179\n",
      "weighted avg       0.80      0.80      0.80       179\n",
      "\n"
     ]
    }
   ],
   "source": [
    "dct=DecisionTreeClassifier()\n",
    "x_train,x_test,y_train,y_test=train_test_split(df_x, df_y,random_state = 46,test_size=0.20)\n",
    "dct.fit(x_train,y_train)\n",
    "preddct=dct.predict(x_test)\n",
    "print(accuracy_score(y_test,preddct))\n",
    "print(confusion_matrix(y_test,preddct))\n",
    "print(classification_report(y_test,preddct))"
   ]
  },
  {
   "cell_type": "code",
   "execution_count": 57,
   "metadata": {},
   "outputs": [
    {
     "name": "stdout",
     "output_type": "stream",
     "text": [
      "random state : 42  and f1 score:  0.37623762376237624\n",
      "random state : 43  and f1 score:  0.35416666666666674\n",
      "random state : 44  and f1 score:  0.3\n",
      "random state : 45  and f1 score:  0.3181818181818182\n",
      "random state : 46  and f1 score:  0.42857142857142855\n",
      "random state : 47  and f1 score:  0.33684210526315794\n",
      "random state : 48  and f1 score:  0.4489795918367347\n",
      "random state : 49  and f1 score:  0.37894736842105264\n",
      "random state : 50  and f1 score:  0.31372549019607837\n",
      "random state : 51  and f1 score:  0.28846153846153844\n",
      "random state : 52  and f1 score:  0.3962264150943396\n",
      "random state : 53  and f1 score:  0.3870967741935484\n",
      "random state : 54  and f1 score:  0.3434343434343434\n",
      "random state : 55  and f1 score:  0.2653061224489796\n",
      "random state : 56  and f1 score:  0.39175257731958757\n",
      "random state : 57  and f1 score:  0.41904761904761906\n",
      "random state : 58  and f1 score:  0.3232323232323232\n",
      "random state : 59  and f1 score:  0.31304347826086953\n",
      "random state : 60  and f1 score:  0.3518518518518519\n",
      "random state : 61  and f1 score:  0.3883495145631068\n",
      "random state : 62  and f1 score:  0.3137254901960784\n",
      "random state : 63  and f1 score:  0.33999999999999997\n",
      "random state : 64  and f1 score:  0.45217391304347826\n",
      "random state : 65  and f1 score:  0.47058823529411764\n",
      "random state : 66  and f1 score:  0.3736263736263736\n",
      "random state : 67  and f1 score:  0.3392857142857143\n",
      "random state : 68  and f1 score:  0.28\n",
      "random state : 69  and f1 score:  0.392156862745098\n",
      "random state : 70  and f1 score:  0.4247787610619469\n",
      "random state : 71  and f1 score:  0.44943820224719105\n",
      "random state : 72  and f1 score:  0.45045045045045046\n",
      "random state : 73  and f1 score:  0.3917525773195876\n",
      "random state : 74  and f1 score:  0.3917525773195876\n",
      "random state : 75  and f1 score:  0.41237113402061853\n",
      "random state : 76  and f1 score:  0.32989690721649484\n",
      "random state : 77  and f1 score:  0.2926829268292683\n",
      "random state : 78  and f1 score:  0.3505154639175258\n",
      "random state : 79  and f1 score:  0.3695652173913043\n",
      "random state : 80  and f1 score:  0.33009708737864074\n",
      "random state : 81  and f1 score:  0.2826086956521739\n",
      "random state : 82  and f1 score:  0.45161290322580644\n",
      "random state : 83  and f1 score:  0.38775510204081637\n",
      "random state : 84  and f1 score:  0.3434343434343434\n",
      "random state : 85  and f1 score:  0.5154639175257731\n",
      "random state : 86  and f1 score:  0.34951456310679613\n",
      "random state : 87  and f1 score:  0.36538461538461536\n",
      "random state : 88  and f1 score:  0.44210526315789467\n",
      "random state : 89  and f1 score:  0.37254901960784315\n",
      "random state : 90  and f1 score:  0.35051546391752575\n",
      "random state : 91  and f1 score:  0.38\n",
      "random state : 92  and f1 score:  0.37499999999999994\n",
      "random state : 93  and f1 score:  0.4\n",
      "random state : 94  and f1 score:  0.411214953271028\n",
      "random state : 95  and f1 score:  0.4\n",
      "random state : 96  and f1 score:  0.22222222222222224\n",
      "random state : 97  and f1 score:  0.35643564356435636\n",
      "random state : 98  and f1 score:  0.24742268041237112\n",
      "random state : 99  and f1 score:  0.3829787234042553\n",
      "maximum f1_score is at random state : 85  and it is : 0.5154639175257731\n"
     ]
    }
   ],
   "source": [
    "from sklearn.neighbors import KNeighborsClassifier\n",
    "knn=KNeighborsClassifier(n_neighbors=10)\n",
    "maxf1_score(knn,df_x,df_y)"
   ]
  },
  {
   "cell_type": "code",
   "execution_count": 58,
   "metadata": {},
   "outputs": [
    {
     "name": "stdout",
     "output_type": "stream",
     "text": [
      "random state : 42  and f1 score:  0.7746478873239436\n",
      "random state : 43  and f1 score:  0.7058823529411766\n",
      "random state : 44  and f1 score:  0.6906474820143884\n",
      "random state : 45  and f1 score:  0.8095238095238094\n",
      "random state : 46  and f1 score:  0.7832167832167831\n",
      "random state : 47  and f1 score:  0.7368421052631577\n",
      "random state : 48  and f1 score:  0.7391304347826085\n",
      "random state : 49  and f1 score:  0.8166666666666667\n",
      "random state : 50  and f1 score:  0.7338129496402876\n",
      "random state : 51  and f1 score:  0.7424242424242424\n",
      "random state : 52  and f1 score:  0.736842105263158\n",
      "random state : 53  and f1 score:  0.7230769230769231\n",
      "random state : 54  and f1 score:  0.736842105263158\n",
      "random state : 55  and f1 score:  0.7213114754098361\n",
      "random state : 56  and f1 score:  0.7500000000000001\n",
      "random state : 57  and f1 score:  0.7343750000000001\n",
      "random state : 58  and f1 score:  0.7218045112781956\n",
      "random state : 59  and f1 score:  0.7534246575342466\n",
      "random state : 60  and f1 score:  0.7552447552447551\n",
      "random state : 61  and f1 score:  0.7401574803149606\n",
      "random state : 62  and f1 score:  0.7681159420289856\n",
      "random state : 63  and f1 score:  0.7857142857142857\n",
      "random state : 64  and f1 score:  0.7941176470588235\n",
      "random state : 65  and f1 score:  0.7812500000000001\n",
      "random state : 66  and f1 score:  0.7321428571428571\n",
      "random state : 67  and f1 score:  0.7448275862068965\n",
      "random state : 68  and f1 score:  0.7187499999999999\n",
      "random state : 69  and f1 score:  0.734375\n",
      "random state : 70  and f1 score:  0.7482014388489208\n",
      "random state : 71  and f1 score:  0.7358490566037736\n",
      "random state : 72  and f1 score:  0.8219178082191781\n",
      "random state : 73  and f1 score:  0.7868852459016392\n",
      "random state : 74  and f1 score:  0.835820895522388\n",
      "random state : 75  and f1 score:  0.6909090909090909\n",
      "random state : 76  and f1 score:  0.8095238095238094\n",
      "random state : 77  and f1 score:  0.7272727272727273\n",
      "random state : 78  and f1 score:  0.7669172932330828\n",
      "random state : 79  and f1 score:  0.7479674796747967\n",
      "random state : 80  and f1 score:  0.7407407407407406\n",
      "random state : 81  and f1 score:  0.7000000000000001\n",
      "random state : 82  and f1 score:  0.6608695652173913\n",
      "random state : 83  and f1 score:  0.7419354838709677\n",
      "random state : 84  and f1 score:  0.6870229007633588\n",
      "random state : 85  and f1 score:  0.7244094488188977\n",
      "random state : 86  and f1 score:  0.8111888111888111\n",
      "random state : 87  and f1 score:  0.75\n",
      "random state : 88  and f1 score:  0.7500000000000001\n",
      "random state : 89  and f1 score:  0.7716535433070867\n",
      "random state : 90  and f1 score:  0.7333333333333334\n",
      "random state : 91  and f1 score:  0.7642276422764227\n",
      "random state : 92  and f1 score:  0.8000000000000002\n",
      "random state : 93  and f1 score:  0.8125\n",
      "random state : 94  and f1 score:  0.7580645161290323\n",
      "random state : 95  and f1 score:  0.7716535433070865\n",
      "random state : 96  and f1 score:  0.6538461538461539\n",
      "random state : 97  and f1 score:  0.7438016528925621\n",
      "random state : 98  and f1 score:  0.75177304964539\n",
      "random state : 99  and f1 score:  0.7777777777777778\n",
      "maximum f1_score is at random state : 74  and it is : 0.835820895522388\n"
     ]
    }
   ],
   "source": [
    "from sklearn.ensemble import RandomForestClassifier\n",
    "rf= RandomForestClassifier(n_estimators=500)\n",
    "maxf1_score(rf,df_x,df_y)"
   ]
  },
  {
   "cell_type": "code",
   "execution_count": 59,
   "metadata": {},
   "outputs": [
    {
     "name": "stdout",
     "output_type": "stream",
     "text": [
      "0.8659217877094972\n",
      "[[101  11]\n",
      " [ 13  54]]\n",
      "              precision    recall  f1-score   support\n",
      "\n",
      "           0       0.89      0.90      0.89       112\n",
      "           1       0.83      0.81      0.82        67\n",
      "\n",
      "    accuracy                           0.87       179\n",
      "   macro avg       0.86      0.85      0.86       179\n",
      "weighted avg       0.87      0.87      0.87       179\n",
      "\n"
     ]
    }
   ],
   "source": [
    "x_train,x_test,y_train,y_test=train_test_split(df_x, df_y,random_state = 74,test_size=0.20)\n",
    "rf.fit(x_train,y_train)\n",
    "predrf=rf.predict(x_test)\n",
    "print(accuracy_score(y_test,predrf))\n",
    "print(confusion_matrix(y_test,predrf))\n",
    "print(classification_report(y_test,predrf))"
   ]
  },
  {
   "cell_type": "code",
   "execution_count": null,
   "metadata": {},
   "outputs": [],
   "source": []
  }
 ],
 "metadata": {
  "kernelspec": {
   "display_name": "Python 3",
   "language": "python",
   "name": "python3"
  },
  "language_info": {
   "codemirror_mode": {
    "name": "ipython",
    "version": 3
   },
   "file_extension": ".py",
   "mimetype": "text/x-python",
   "name": "python",
   "nbconvert_exporter": "python",
   "pygments_lexer": "ipython3",
   "version": "3.7.4"
  }
 },
 "nbformat": 4,
 "nbformat_minor": 2
}
