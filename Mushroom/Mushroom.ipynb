{
 "cells": [
  {
   "cell_type": "code",
   "execution_count": 1,
   "metadata": {},
   "outputs": [],
   "source": [
    "import numpy as np\n",
    "import pandas as pd\n",
    "import seaborn as sns\n",
    "import matplotlib.pyplot as plt\n",
    "import warnings\n",
    "warnings.filterwarnings('ignore')"
   ]
  },
  {
   "cell_type": "code",
   "execution_count": 2,
   "metadata": {},
   "outputs": [
    {
     "name": "stdout",
     "output_type": "stream",
     "text": [
      "     type cap-shape cap-surface cap-color bruises odor gill-attachment  \\\n",
      "0       p         x           s         n       t    p               f   \n",
      "1       e         x           s         y       t    a               f   \n",
      "2       e         b           s         w       t    l               f   \n",
      "3       p         x           y         w       t    p               f   \n",
      "4       e         x           s         g       f    n               f   \n",
      "...   ...       ...         ...       ...     ...  ...             ...   \n",
      "8119    e         k           s         n       f    n               a   \n",
      "8120    e         x           s         n       f    n               a   \n",
      "8121    e         f           s         n       f    n               a   \n",
      "8122    p         k           y         n       f    y               f   \n",
      "8123    e         x           s         n       f    n               a   \n",
      "\n",
      "     gill-spacing gill-size gill-color  ... stalk-surface-below-ring  \\\n",
      "0               c         n          k  ...                        s   \n",
      "1               c         b          k  ...                        s   \n",
      "2               c         b          n  ...                        s   \n",
      "3               c         n          n  ...                        s   \n",
      "4               w         b          k  ...                        s   \n",
      "...           ...       ...        ...  ...                      ...   \n",
      "8119            c         b          y  ...                        s   \n",
      "8120            c         b          y  ...                        s   \n",
      "8121            c         b          n  ...                        s   \n",
      "8122            c         n          b  ...                        k   \n",
      "8123            c         b          y  ...                        s   \n",
      "\n",
      "     stalk-color-above-ring stalk-color-below-ring veil-type veil-color  \\\n",
      "0                         w                      w         p          w   \n",
      "1                         w                      w         p          w   \n",
      "2                         w                      w         p          w   \n",
      "3                         w                      w         p          w   \n",
      "4                         w                      w         p          w   \n",
      "...                     ...                    ...       ...        ...   \n",
      "8119                      o                      o         p          o   \n",
      "8120                      o                      o         p          n   \n",
      "8121                      o                      o         p          o   \n",
      "8122                      w                      w         p          w   \n",
      "8123                      o                      o         p          o   \n",
      "\n",
      "     ring-number ring-type spore-print-color population habitat  \n",
      "0              o         p                 k          s       u  \n",
      "1              o         p                 n          n       g  \n",
      "2              o         p                 n          n       m  \n",
      "3              o         p                 k          s       u  \n",
      "4              o         e                 n          a       g  \n",
      "...          ...       ...               ...        ...     ...  \n",
      "8119           o         p                 b          c       l  \n",
      "8120           o         p                 b          v       l  \n",
      "8121           o         p                 b          c       l  \n",
      "8122           o         e                 w          v       l  \n",
      "8123           o         p                 o          c       l  \n",
      "\n",
      "[8124 rows x 23 columns]\n"
     ]
    }
   ],
   "source": [
    "df_mushroom = pd.read_csv(\"mushroom.csv\")\n",
    "print(df_mushroom)"
   ]
  },
  {
   "cell_type": "code",
   "execution_count": 3,
   "metadata": {},
   "outputs": [
    {
     "data": {
      "text/html": [
       "<div>\n",
       "<style scoped>\n",
       "    .dataframe tbody tr th:only-of-type {\n",
       "        vertical-align: middle;\n",
       "    }\n",
       "\n",
       "    .dataframe tbody tr th {\n",
       "        vertical-align: top;\n",
       "    }\n",
       "\n",
       "    .dataframe thead th {\n",
       "        text-align: right;\n",
       "    }\n",
       "</style>\n",
       "<table border=\"1\" class=\"dataframe\">\n",
       "  <thead>\n",
       "    <tr style=\"text-align: right;\">\n",
       "      <th></th>\n",
       "      <th>type</th>\n",
       "      <th>cap-shape</th>\n",
       "      <th>cap-surface</th>\n",
       "      <th>cap-color</th>\n",
       "      <th>bruises</th>\n",
       "      <th>odor</th>\n",
       "      <th>gill-attachment</th>\n",
       "      <th>gill-spacing</th>\n",
       "      <th>gill-size</th>\n",
       "      <th>gill-color</th>\n",
       "      <th>...</th>\n",
       "      <th>stalk-surface-below-ring</th>\n",
       "      <th>stalk-color-above-ring</th>\n",
       "      <th>stalk-color-below-ring</th>\n",
       "      <th>veil-type</th>\n",
       "      <th>veil-color</th>\n",
       "      <th>ring-number</th>\n",
       "      <th>ring-type</th>\n",
       "      <th>spore-print-color</th>\n",
       "      <th>population</th>\n",
       "      <th>habitat</th>\n",
       "    </tr>\n",
       "  </thead>\n",
       "  <tbody>\n",
       "    <tr>\n",
       "      <td>0</td>\n",
       "      <td>p</td>\n",
       "      <td>x</td>\n",
       "      <td>s</td>\n",
       "      <td>n</td>\n",
       "      <td>t</td>\n",
       "      <td>p</td>\n",
       "      <td>f</td>\n",
       "      <td>c</td>\n",
       "      <td>n</td>\n",
       "      <td>k</td>\n",
       "      <td>...</td>\n",
       "      <td>s</td>\n",
       "      <td>w</td>\n",
       "      <td>w</td>\n",
       "      <td>p</td>\n",
       "      <td>w</td>\n",
       "      <td>o</td>\n",
       "      <td>p</td>\n",
       "      <td>k</td>\n",
       "      <td>s</td>\n",
       "      <td>u</td>\n",
       "    </tr>\n",
       "    <tr>\n",
       "      <td>1</td>\n",
       "      <td>e</td>\n",
       "      <td>x</td>\n",
       "      <td>s</td>\n",
       "      <td>y</td>\n",
       "      <td>t</td>\n",
       "      <td>a</td>\n",
       "      <td>f</td>\n",
       "      <td>c</td>\n",
       "      <td>b</td>\n",
       "      <td>k</td>\n",
       "      <td>...</td>\n",
       "      <td>s</td>\n",
       "      <td>w</td>\n",
       "      <td>w</td>\n",
       "      <td>p</td>\n",
       "      <td>w</td>\n",
       "      <td>o</td>\n",
       "      <td>p</td>\n",
       "      <td>n</td>\n",
       "      <td>n</td>\n",
       "      <td>g</td>\n",
       "    </tr>\n",
       "    <tr>\n",
       "      <td>2</td>\n",
       "      <td>e</td>\n",
       "      <td>b</td>\n",
       "      <td>s</td>\n",
       "      <td>w</td>\n",
       "      <td>t</td>\n",
       "      <td>l</td>\n",
       "      <td>f</td>\n",
       "      <td>c</td>\n",
       "      <td>b</td>\n",
       "      <td>n</td>\n",
       "      <td>...</td>\n",
       "      <td>s</td>\n",
       "      <td>w</td>\n",
       "      <td>w</td>\n",
       "      <td>p</td>\n",
       "      <td>w</td>\n",
       "      <td>o</td>\n",
       "      <td>p</td>\n",
       "      <td>n</td>\n",
       "      <td>n</td>\n",
       "      <td>m</td>\n",
       "    </tr>\n",
       "    <tr>\n",
       "      <td>3</td>\n",
       "      <td>p</td>\n",
       "      <td>x</td>\n",
       "      <td>y</td>\n",
       "      <td>w</td>\n",
       "      <td>t</td>\n",
       "      <td>p</td>\n",
       "      <td>f</td>\n",
       "      <td>c</td>\n",
       "      <td>n</td>\n",
       "      <td>n</td>\n",
       "      <td>...</td>\n",
       "      <td>s</td>\n",
       "      <td>w</td>\n",
       "      <td>w</td>\n",
       "      <td>p</td>\n",
       "      <td>w</td>\n",
       "      <td>o</td>\n",
       "      <td>p</td>\n",
       "      <td>k</td>\n",
       "      <td>s</td>\n",
       "      <td>u</td>\n",
       "    </tr>\n",
       "    <tr>\n",
       "      <td>4</td>\n",
       "      <td>e</td>\n",
       "      <td>x</td>\n",
       "      <td>s</td>\n",
       "      <td>g</td>\n",
       "      <td>f</td>\n",
       "      <td>n</td>\n",
       "      <td>f</td>\n",
       "      <td>w</td>\n",
       "      <td>b</td>\n",
       "      <td>k</td>\n",
       "      <td>...</td>\n",
       "      <td>s</td>\n",
       "      <td>w</td>\n",
       "      <td>w</td>\n",
       "      <td>p</td>\n",
       "      <td>w</td>\n",
       "      <td>o</td>\n",
       "      <td>e</td>\n",
       "      <td>n</td>\n",
       "      <td>a</td>\n",
       "      <td>g</td>\n",
       "    </tr>\n",
       "  </tbody>\n",
       "</table>\n",
       "<p>5 rows × 23 columns</p>\n",
       "</div>"
      ],
      "text/plain": [
       "  type cap-shape cap-surface cap-color bruises odor gill-attachment  \\\n",
       "0    p         x           s         n       t    p               f   \n",
       "1    e         x           s         y       t    a               f   \n",
       "2    e         b           s         w       t    l               f   \n",
       "3    p         x           y         w       t    p               f   \n",
       "4    e         x           s         g       f    n               f   \n",
       "\n",
       "  gill-spacing gill-size gill-color  ... stalk-surface-below-ring  \\\n",
       "0            c         n          k  ...                        s   \n",
       "1            c         b          k  ...                        s   \n",
       "2            c         b          n  ...                        s   \n",
       "3            c         n          n  ...                        s   \n",
       "4            w         b          k  ...                        s   \n",
       "\n",
       "  stalk-color-above-ring stalk-color-below-ring veil-type veil-color  \\\n",
       "0                      w                      w         p          w   \n",
       "1                      w                      w         p          w   \n",
       "2                      w                      w         p          w   \n",
       "3                      w                      w         p          w   \n",
       "4                      w                      w         p          w   \n",
       "\n",
       "  ring-number ring-type spore-print-color population habitat  \n",
       "0           o         p                 k          s       u  \n",
       "1           o         p                 n          n       g  \n",
       "2           o         p                 n          n       m  \n",
       "3           o         p                 k          s       u  \n",
       "4           o         e                 n          a       g  \n",
       "\n",
       "[5 rows x 23 columns]"
      ]
     },
     "execution_count": 3,
     "metadata": {},
     "output_type": "execute_result"
    }
   ],
   "source": [
    "df_mushroom.head()"
   ]
  },
  {
   "cell_type": "code",
   "execution_count": 4,
   "metadata": {},
   "outputs": [
    {
     "data": {
      "text/plain": [
       "type                        0\n",
       "cap-shape                   0\n",
       "cap-surface                 0\n",
       "cap-color                   0\n",
       "bruises                     0\n",
       "odor                        0\n",
       "gill-attachment             0\n",
       "gill-spacing                0\n",
       "gill-size                   0\n",
       "gill-color                  0\n",
       "stalk-shape                 0\n",
       "stalk-root                  0\n",
       "stalk-surface-above-ring    0\n",
       "stalk-surface-below-ring    0\n",
       "stalk-color-above-ring      0\n",
       "stalk-color-below-ring      0\n",
       "veil-type                   0\n",
       "veil-color                  0\n",
       "ring-number                 0\n",
       "ring-type                   0\n",
       "spore-print-color           0\n",
       "population                  0\n",
       "habitat                     0\n",
       "dtype: int64"
      ]
     },
     "execution_count": 4,
     "metadata": {},
     "output_type": "execute_result"
    }
   ],
   "source": [
    "df_mushroom.isnull().sum()"
   ]
  },
  {
   "cell_type": "code",
   "execution_count": 5,
   "metadata": {},
   "outputs": [
    {
     "data": {
      "text/plain": [
       "type                        object\n",
       "cap-shape                   object\n",
       "cap-surface                 object\n",
       "cap-color                   object\n",
       "bruises                     object\n",
       "odor                        object\n",
       "gill-attachment             object\n",
       "gill-spacing                object\n",
       "gill-size                   object\n",
       "gill-color                  object\n",
       "stalk-shape                 object\n",
       "stalk-root                  object\n",
       "stalk-surface-above-ring    object\n",
       "stalk-surface-below-ring    object\n",
       "stalk-color-above-ring      object\n",
       "stalk-color-below-ring      object\n",
       "veil-type                   object\n",
       "veil-color                  object\n",
       "ring-number                 object\n",
       "ring-type                   object\n",
       "spore-print-color           object\n",
       "population                  object\n",
       "habitat                     object\n",
       "dtype: object"
      ]
     },
     "execution_count": 5,
     "metadata": {},
     "output_type": "execute_result"
    }
   ],
   "source": [
    "df_mushroom.dtypes"
   ]
  },
  {
   "cell_type": "code",
   "execution_count": 6,
   "metadata": {},
   "outputs": [
    {
     "data": {
      "image/png": "[encoded data removed]",
      "text/plain": [
       "<Figure size 432x288 with 1 Axes>"
      ]
     },
     "metadata": {
      "needs_background": "light"
     },
     "output_type": "display_data"
    }
   ],
   "source": [
    "sns.countplot(x=\"type\",data=df_mushroom)\n",
    "plt.show()"
   ]
  },
  {
   "cell_type": "code",
   "execution_count": 10,
   "metadata": {},
   "outputs": [
    {
     "data": {
      "image/png": "[encoded data removed]",
      "text/plain": [
       "<Figure size 432x288 with 1 Axes>"
      ]
     },
     "metadata": {
      "needs_background": "light"
     },
     "output_type": "display_data"
    }
   ],
   "source": [
    "sns.countplot(x=\"cap-shape\",hue=\"type\",data=df_mushroom)\n",
    "plt.show()"
   ]
  },
  {
   "cell_type": "code",
   "execution_count": 11,
   "metadata": {},
   "outputs": [
    {
     "data": {
      "image/png": "[encoded data removed]",
      "text/plain": [
       "<Figure size 432x288 with 1 Axes>"
      ]
     },
     "metadata": {
      "needs_background": "light"
     },
     "output_type": "display_data"
    }
   ],
   "source": [
    "sns.countplot(x=\"cap-surface\",hue=\"type\",data=df_mushroom)\n",
    "plt.show()"
   ]
  },
  {
   "cell_type": "code",
   "execution_count": 12,
   "metadata": {},
   "outputs": [
    {
     "data": {
      "image/png": "[encoded data removed]",
      "text/plain": [
       "<Figure size 432x288 with 1 Axes>"
      ]
     },
     "metadata": {
      "needs_background": "light"
     },
     "output_type": "display_data"
    }
   ],
   "source": [
    "sns.countplot(x=\"cap-color\",hue=\"type\",data=df_mushroom)\n",
    "plt.show()"
   ]
  },
  {
   "cell_type": "code",
   "execution_count": 13,
   "metadata": {},
   "outputs": [
    {
     "data": {
      "image/png": "[encoded data removed]",
      "text/plain": [
       "<Figure size 432x288 with 1 Axes>"
      ]
     },
     "metadata": {
      "needs_background": "light"
     },
     "output_type": "display_data"
    }
   ],
   "source": [
    "sns.countplot(x=\"bruises\",hue=\"type\",data=df_mushroom)\n",
    "plt.show()"
   ]
  },
  {
   "cell_type": "code",
   "execution_count": 14,
   "metadata": {},
   "outputs": [
    {
     "data": {
      "image/png": "[encoded data removed]",
      "text/plain": [
       "<Figure size 432x288 with 1 Axes>"
      ]
     },
     "metadata": {
      "needs_background": "light"
     },
     "output_type": "display_data"
    }
   ],
   "source": [
    "sns.countplot(x=\"odor\",hue=\"type\",data=df_mushroom)\n",
    "plt.show()"
   ]
  },
  {
   "cell_type": "code",
   "execution_count": 15,
   "metadata": {},
   "outputs": [
    {
     "data": {
      "image/png": "[encoded data removed]",
      "text/plain": [
       "<Figure size 432x288 with 1 Axes>"
      ]
     },
     "metadata": {
      "needs_background": "light"
     },
     "output_type": "display_data"
    }
   ],
   "source": [
    "sns.countplot(x=\"gill-attachment\",hue=\"type\",data=df_mushroom)\n",
    "plt.show()"
   ]
  },
  {
   "cell_type": "code",
   "execution_count": 16,
   "metadata": {},
   "outputs": [
    {
     "data": {
      "image/png": "[encoded data removed]",
      "text/plain": [
       "<Figure size 432x288 with 1 Axes>"
      ]
     },
     "metadata": {
      "needs_background": "light"
     },
     "output_type": "display_data"
    }
   ],
   "source": [
    "sns.countplot(x=\"stalk-shape\",hue=\"type\",data=df_mushroom)\n",
    "plt.show()"
   ]
  },
  {
   "cell_type": "code",
   "execution_count": 17,
   "metadata": {},
   "outputs": [
    {
     "data": {
      "image/png": "[encoded data removed]",
      "text/plain": [
       "<Figure size 432x288 with 1 Axes>"
      ]
     },
     "metadata": {
      "needs_background": "light"
     },
     "output_type": "display_data"
    }
   ],
   "source": [
    "sns.countplot(x=\"veil-type\",hue=\"type\",data=df_mushroom)\n",
    "plt.show()"
   ]
  },
  {
   "cell_type": "code",
   "execution_count": 18,
   "metadata": {},
   "outputs": [
    {
     "data": {
      "image/png": "[encoded data removed]",
      "text/plain": [
       "<Figure size 432x288 with 1 Axes>"
      ]
     },
     "metadata": {
      "needs_background": "light"
     },
     "output_type": "display_data"
    }
   ],
   "source": [
    "sns.countplot(x=\"veil-color\",hue=\"type\",data=df_mushroom)\n",
    "plt.show()"
   ]
  },
  {
   "cell_type": "code",
   "execution_count": 20,
   "metadata": {},
   "outputs": [
    {
     "data": {
      "image/png": "[encoded data removed]",
      "text/plain": [
       "<Figure size 432x288 with 1 Axes>"
      ]
     },
     "metadata": {
      "needs_background": "light"
     },
     "output_type": "display_data"
    }
   ],
   "source": [
    "sns.countplot(x=\"population\",hue=\"type\",data=df_mushroom)\n",
    "plt.show()"
   ]
  },
  {
   "cell_type": "code",
   "execution_count": 21,
   "metadata": {},
   "outputs": [
    {
     "data": {
      "image/png": "[encoded data removed]",
      "text/plain": [
       "<Figure size 432x288 with 1 Axes>"
      ]
     },
     "metadata": {
      "needs_background": "light"
     },
     "output_type": "display_data"
    }
   ],
   "source": [
    "sns.countplot(x=\"habitat\",hue=\"type\",data=df_mushroom)\n",
    "plt.show()"
   ]
  },
  {
   "cell_type": "code",
   "execution_count": 22,
   "metadata": {},
   "outputs": [],
   "source": [
    "df_mushroom.drop(columns=[\"veil-color\"],inplace=True)"
   ]
  },
  {
   "cell_type": "code",
   "execution_count": 24,
   "metadata": {},
   "outputs": [],
   "source": [
    "df_x=df_mushroom.drop(columns=[\"type\"])\n",
    "df_y=df_mushroom[[\"type\"]]"
   ]
  },
  {
   "cell_type": "code",
   "execution_count": 25,
   "metadata": {},
   "outputs": [],
   "source": [
    "df_x=pd.get_dummies(df_x,drop_first=True)"
   ]
  },
  {
   "cell_type": "code",
   "execution_count": 26,
   "metadata": {},
   "outputs": [],
   "source": [
    "from sklearn.preprocessing import StandardScaler\n",
    "sc=StandardScaler()\n",
    "sc.fit(df_x)\n",
    "x=sc.transform(df_x)\n",
    "x=pd.DataFrame(x,columns=df_x.columns)"
   ]
  },
  {
   "cell_type": "code",
   "execution_count": 27,
   "metadata": {},
   "outputs": [
    {
     "data": {
      "text/plain": [
       "array([1, 0, 0, ..., 0, 1, 0])"
      ]
     },
     "execution_count": 27,
     "metadata": {},
     "output_type": "execute_result"
    }
   ],
   "source": [
    "from sklearn.preprocessing import LabelEncoder\n",
    "le=LabelEncoder()\n",
    "le.fit(df_y)\n",
    "df_y=le.transform(df_y)\n",
    "df_y"
   ]
  },
  {
   "cell_type": "code",
   "execution_count": 32,
   "metadata": {},
   "outputs": [],
   "source": [
    "from sklearn.linear_model import LogisticRegression\n",
    "from sklearn.tree import DecisionTreeClassifier\n",
    "from sklearn.ensemble import RandomForestClassifier\n",
    "from sklearn.svm import SVC\n",
    "from sklearn.neighbors import KNeighborsClassifier\n",
    "from sklearn.model_selection import train_test_split\n",
    "x_train, x_test, y_train, y_test = train_test_split(df_x,df_y, test_size=0.2, random_state=42)"
   ]
  },
  {
   "cell_type": "code",
   "execution_count": 41,
   "metadata": {},
   "outputs": [],
   "source": [
    "from sklearn.metrics import f1_score\n",
    "from sklearn.model_selection import train_test_split\n",
    "def maxf1_score(clf,df_x,y):\n",
    "    maxf=0\n",
    "    rs=0\n",
    "    for r_state in range(42,100):\n",
    "        x_train,x_test,y_train,y_test=train_test_split(df_x, y,random_state = r_state,test_size=0.20,stratify=y)\n",
    "        clf.fit(x_train,y_train)\n",
    "        y_pred=clf.predict(x_test)\n",
    "        tmp=f1_score(y_test,y_pred)\n",
    "        print(\"random state :\",r_state,\" and f1 score: \",tmp)\n",
    "        if tmp>maxf:\n",
    "            maxf=tmp\n",
    "            rs=r_state\n",
    "    print(\"maximum f1_score is at random state :\",rs,\" and it is :\",maxf)"
   ]
  },
  {
   "cell_type": "code",
   "execution_count": 65,
   "metadata": {},
   "outputs": [
    {
     "name": "stdout",
     "output_type": "stream",
     "text": [
      "random state : 42  and f1 score:  0.9987212276214833\n",
      "random state : 43  and f1 score:  0.9993610223642173\n",
      "random state : 44  and f1 score:  0.9980806142034548\n",
      "random state : 45  and f1 score:  1.0\n",
      "random state : 46  and f1 score:  1.0\n",
      "random state : 47  and f1 score:  1.0\n",
      "random state : 48  and f1 score:  0.9993610223642173\n",
      "random state : 49  and f1 score:  1.0\n",
      "random state : 50  and f1 score:  0.9993610223642173\n",
      "random state : 51  and f1 score:  1.0\n",
      "random state : 52  and f1 score:  1.0\n",
      "random state : 53  and f1 score:  1.0\n",
      "random state : 54  and f1 score:  0.9980806142034548\n",
      "random state : 55  and f1 score:  1.0\n",
      "random state : 56  and f1 score:  1.0\n",
      "random state : 57  and f1 score:  0.9993610223642173\n",
      "random state : 58  and f1 score:  1.0\n",
      "random state : 59  and f1 score:  0.9980806142034548\n",
      "random state : 60  and f1 score:  1.0\n",
      "random state : 61  and f1 score:  0.9993610223642173\n",
      "random state : 62  and f1 score:  0.9993610223642173\n",
      "random state : 63  and f1 score:  1.0\n",
      "random state : 64  and f1 score:  1.0\n",
      "random state : 65  and f1 score:  0.9993610223642173\n",
      "random state : 66  and f1 score:  1.0\n",
      "random state : 67  and f1 score:  0.9987212276214833\n",
      "random state : 68  and f1 score:  1.0\n",
      "random state : 69  and f1 score:  1.0\n",
      "random state : 70  and f1 score:  0.9993610223642173\n",
      "random state : 71  and f1 score:  1.0\n",
      "random state : 72  and f1 score:  0.9993610223642173\n",
      "random state : 73  and f1 score:  0.9993610223642173\n",
      "random state : 74  and f1 score:  0.9993610223642173\n",
      "random state : 75  and f1 score:  1.0\n",
      "random state : 76  and f1 score:  1.0\n",
      "random state : 77  and f1 score:  1.0\n",
      "random state : 78  and f1 score:  1.0\n",
      "random state : 79  and f1 score:  1.0\n",
      "random state : 80  and f1 score:  1.0\n",
      "random state : 81  and f1 score:  0.9974391805377721\n",
      "random state : 82  and f1 score:  1.0\n",
      "random state : 83  and f1 score:  1.0\n",
      "random state : 84  and f1 score:  1.0\n",
      "random state : 85  and f1 score:  1.0\n",
      "random state : 86  and f1 score:  0.9993610223642173\n",
      "random state : 87  and f1 score:  1.0\n",
      "random state : 88  and f1 score:  1.0\n",
      "random state : 89  and f1 score:  0.9987212276214833\n",
      "random state : 90  and f1 score:  1.0\n",
      "random state : 91  and f1 score:  1.0\n",
      "random state : 92  and f1 score:  0.9993610223642173\n",
      "random state : 93  and f1 score:  1.0\n",
      "random state : 94  and f1 score:  1.0\n",
      "random state : 95  and f1 score:  0.9993610223642173\n",
      "random state : 96  and f1 score:  0.9993610223642173\n",
      "random state : 97  and f1 score:  0.9993610223642173\n",
      "random state : 98  and f1 score:  0.9980806142034548\n",
      "random state : 99  and f1 score:  1.0\n",
      "maximum f1_score is at random state : 45  and it is : 1.0\n"
     ]
    }
   ],
   "source": [
    "from sklearn.linear_model import LogisticRegression\n",
    "lg=LogisticRegression()\n",
    "final_r_state=maxf1_score(lg,df_x,df_y)"
   ]
  },
  {
   "cell_type": "code",
   "execution_count": 50,
   "metadata": {},
   "outputs": [
    {
     "name": "stdout",
     "output_type": "stream",
     "text": [
      "Mean f1 score  0.9063614592722835\n",
      "[0.82634731 1.         0.97980456 1.         0.72565543]\n"
     ]
    }
   ],
   "source": [
    "from sklearn.model_selection import cross_val_score\n",
    "print(\"Mean f1 score \",cross_val_score(lg,df_x,df_y,cv=5,scoring=\"f1\").mean())\n",
    "print(cross_val_score(lg,df_x,df_y,cv=5,scoring=\"f1\"))"
   ]
  },
  {
   "cell_type": "code",
   "execution_count": 53,
   "metadata": {},
   "outputs": [
    {
     "name": "stdout",
     "output_type": "stream",
     "text": [
      "random state : 42  and f1 score:  1.0\n",
      "random state : 43  and f1 score:  1.0\n",
      "random state : 44  and f1 score:  1.0\n",
      "random state : 45  and f1 score:  1.0\n",
      "random state : 46  and f1 score:  1.0\n",
      "random state : 47  and f1 score:  1.0\n",
      "random state : 48  and f1 score:  1.0\n",
      "random state : 49  and f1 score:  1.0\n",
      "random state : 50  and f1 score:  1.0\n",
      "random state : 51  and f1 score:  1.0\n",
      "random state : 52  and f1 score:  1.0\n",
      "random state : 53  and f1 score:  1.0\n",
      "random state : 54  and f1 score:  1.0\n",
      "random state : 55  and f1 score:  1.0\n",
      "random state : 56  and f1 score:  1.0\n",
      "random state : 57  and f1 score:  1.0\n",
      "random state : 58  and f1 score:  1.0\n",
      "random state : 59  and f1 score:  1.0\n",
      "random state : 60  and f1 score:  1.0\n",
      "random state : 61  and f1 score:  1.0\n",
      "random state : 62  and f1 score:  1.0\n",
      "random state : 63  and f1 score:  1.0\n",
      "random state : 64  and f1 score:  1.0\n",
      "random state : 65  and f1 score:  1.0\n",
      "random state : 66  and f1 score:  1.0\n",
      "random state : 67  and f1 score:  1.0\n",
      "random state : 68  and f1 score:  1.0\n",
      "random state : 69  and f1 score:  1.0\n",
      "random state : 70  and f1 score:  1.0\n",
      "random state : 71  and f1 score:  1.0\n",
      "random state : 72  and f1 score:  1.0\n",
      "random state : 73  and f1 score:  1.0\n",
      "random state : 74  and f1 score:  1.0\n",
      "random state : 75  and f1 score:  1.0\n",
      "random state : 76  and f1 score:  1.0\n",
      "random state : 77  and f1 score:  1.0\n",
      "random state : 78  and f1 score:  1.0\n",
      "random state : 79  and f1 score:  1.0\n",
      "random state : 80  and f1 score:  1.0\n",
      "random state : 81  and f1 score:  1.0\n",
      "random state : 82  and f1 score:  1.0\n",
      "random state : 83  and f1 score:  1.0\n",
      "random state : 84  and f1 score:  1.0\n",
      "random state : 85  and f1 score:  1.0\n",
      "random state : 86  and f1 score:  1.0\n",
      "random state : 87  and f1 score:  1.0\n",
      "random state : 88  and f1 score:  1.0\n",
      "random state : 89  and f1 score:  1.0\n",
      "random state : 90  and f1 score:  1.0\n",
      "random state : 91  and f1 score:  1.0\n",
      "random state : 92  and f1 score:  1.0\n",
      "random state : 93  and f1 score:  1.0\n",
      "random state : 94  and f1 score:  1.0\n",
      "random state : 95  and f1 score:  1.0\n",
      "random state : 96  and f1 score:  1.0\n",
      "random state : 97  and f1 score:  1.0\n",
      "random state : 98  and f1 score:  1.0\n",
      "random state : 99  and f1 score:  1.0\n",
      "maximum f1_score is at random state : 42  and it is : 1.0\n"
     ]
    }
   ],
   "source": [
    "from sklearn.neighbors import KNeighborsClassifier\n",
    "knn=KNeighborsClassifier(n_neighbors=2)\n",
    "maxf1_score(knn,df_x,df_y)"
   ]
  },
  {
   "cell_type": "code",
   "execution_count": 54,
   "metadata": {},
   "outputs": [
    {
     "name": "stdout",
     "output_type": "stream",
     "text": [
      "Mean f1 score  0.9291006130315027\n",
      "[0.80578827 1.         0.99550994 1.         0.84420485]\n"
     ]
    }
   ],
   "source": [
    "print(\"Mean f1 score \",cross_val_score(knn,df_x,df_y,cv=5,scoring=\"f1\").mean())\n",
    "print(cross_val_score(knn,df_x,df_y,cv=5,scoring=\"f1\"))"
   ]
  },
  {
   "cell_type": "code",
   "execution_count": 56,
   "metadata": {},
   "outputs": [
    {
     "name": "stdout",
     "output_type": "stream",
     "text": [
      "random state : 42  and f1 score:  1.0\n",
      "random state : 43  and f1 score:  1.0\n",
      "random state : 44  and f1 score:  1.0\n",
      "random state : 45  and f1 score:  1.0\n",
      "random state : 46  and f1 score:  1.0\n",
      "random state : 47  and f1 score:  1.0\n",
      "random state : 48  and f1 score:  1.0\n",
      "random state : 49  and f1 score:  1.0\n",
      "random state : 50  and f1 score:  1.0\n",
      "random state : 51  and f1 score:  1.0\n",
      "random state : 52  and f1 score:  1.0\n",
      "random state : 53  and f1 score:  1.0\n",
      "random state : 54  and f1 score:  1.0\n",
      "random state : 55  and f1 score:  1.0\n",
      "random state : 56  and f1 score:  1.0\n",
      "random state : 57  and f1 score:  1.0\n",
      "random state : 58  and f1 score:  1.0\n",
      "random state : 59  and f1 score:  1.0\n",
      "random state : 60  and f1 score:  1.0\n",
      "random state : 61  and f1 score:  1.0\n",
      "random state : 62  and f1 score:  1.0\n",
      "random state : 63  and f1 score:  1.0\n",
      "random state : 64  and f1 score:  1.0\n",
      "random state : 65  and f1 score:  1.0\n",
      "random state : 66  and f1 score:  1.0\n",
      "random state : 67  and f1 score:  1.0\n",
      "random state : 68  and f1 score:  1.0\n",
      "random state : 69  and f1 score:  1.0\n",
      "random state : 70  and f1 score:  1.0\n",
      "random state : 71  and f1 score:  1.0\n",
      "random state : 72  and f1 score:  1.0\n",
      "random state : 73  and f1 score:  1.0\n",
      "random state : 74  and f1 score:  1.0\n",
      "random state : 75  and f1 score:  1.0\n",
      "random state : 76  and f1 score:  1.0\n",
      "random state : 77  and f1 score:  1.0\n",
      "random state : 78  and f1 score:  1.0\n",
      "random state : 79  and f1 score:  1.0\n",
      "random state : 80  and f1 score:  1.0\n",
      "random state : 81  and f1 score:  1.0\n",
      "random state : 82  and f1 score:  1.0\n",
      "random state : 83  and f1 score:  1.0\n",
      "random state : 84  and f1 score:  1.0\n",
      "random state : 85  and f1 score:  1.0\n",
      "random state : 86  and f1 score:  1.0\n",
      "random state : 87  and f1 score:  1.0\n",
      "random state : 88  and f1 score:  1.0\n",
      "random state : 89  and f1 score:  1.0\n",
      "random state : 90  and f1 score:  1.0\n",
      "random state : 91  and f1 score:  1.0\n",
      "random state : 92  and f1 score:  1.0\n",
      "random state : 93  and f1 score:  1.0\n",
      "random state : 94  and f1 score:  1.0\n",
      "random state : 95  and f1 score:  1.0\n",
      "random state : 96  and f1 score:  1.0\n",
      "random state : 97  and f1 score:  1.0\n",
      "random state : 98  and f1 score:  1.0\n",
      "random state : 99  and f1 score:  1.0\n",
      "maximum f1_score is at random state : 42  and it is : 1.0\n"
     ]
    }
   ],
   "source": [
    "from sklearn.tree import DecisionTreeClassifier\n",
    "dct=DecisionTreeClassifier()\n",
    "maxf1_score(dct,df_x,df_y)"
   ]
  },
  {
   "cell_type": "code",
   "execution_count": 59,
   "metadata": {},
   "outputs": [
    {
     "name": "stdout",
     "output_type": "stream",
     "text": [
      "Mean f1 score  0.938001116694584\n",
      "[0.80487805 1.         1.         1.         0.8569857 ]\n"
     ]
    }
   ],
   "source": [
    "print(\"Mean f1 score \",cross_val_score(dct,df_x,df_y,cv=5,scoring=\"f1\").mean())\n",
    "print(cross_val_score(dct,df_x,df_y,cv=5,scoring=\"f1\"))"
   ]
  },
  {
   "cell_type": "code",
   "execution_count": 60,
   "metadata": {},
   "outputs": [
    {
     "name": "stdout",
     "output_type": "stream",
     "text": [
      "random state : 42  and f1 score:  0.9961538461538463\n",
      "random state : 43  and f1 score:  0.9987212276214833\n",
      "random state : 44  and f1 score:  0.9961538461538463\n",
      "random state : 45  and f1 score:  0.9974391805377721\n",
      "random state : 46  and f1 score:  0.9993610223642173\n",
      "random state : 47  and f1 score:  0.9955099422706863\n",
      "random state : 48  and f1 score:  0.9987212276214833\n",
      "random state : 49  and f1 score:  0.9955099422706863\n",
      "random state : 50  and f1 score:  0.9980806142034548\n",
      "random state : 51  and f1 score:  0.9980806142034548\n",
      "random state : 52  and f1 score:  0.9974391805377721\n",
      "random state : 53  and f1 score:  0.9974391805377721\n",
      "random state : 54  and f1 score:  0.9955099422706863\n",
      "random state : 55  and f1 score:  0.9980806142034548\n",
      "random state : 56  and f1 score:  0.9987212276214833\n",
      "random state : 57  and f1 score:  0.9967969250480461\n",
      "random state : 58  and f1 score:  0.993573264781491\n",
      "random state : 59  and f1 score:  0.9980806142034548\n",
      "random state : 60  and f1 score:  0.9974391805377721\n",
      "random state : 61  and f1 score:  0.9980806142034548\n",
      "random state : 62  and f1 score:  0.9967969250480461\n",
      "random state : 63  and f1 score:  0.9987212276214833\n",
      "random state : 64  and f1 score:  0.9980806142034548\n",
      "random state : 65  and f1 score:  0.9967969250480461\n",
      "random state : 66  and f1 score:  0.9967969250480461\n",
      "random state : 67  and f1 score:  0.9987212276214833\n",
      "random state : 68  and f1 score:  0.9948652118100128\n",
      "random state : 69  and f1 score:  0.9967969250480461\n",
      "random state : 70  and f1 score:  0.9974391805377721\n",
      "random state : 71  and f1 score:  0.9987212276214833\n",
      "random state : 72  and f1 score:  0.9916291049581455\n",
      "random state : 73  and f1 score:  0.9980806142034548\n",
      "random state : 74  and f1 score:  0.9974391805377721\n",
      "random state : 75  and f1 score:  0.9967969250480461\n",
      "random state : 76  and f1 score:  0.9974391805377721\n",
      "random state : 77  and f1 score:  0.993573264781491\n",
      "random state : 78  and f1 score:  0.9974391805377721\n",
      "random state : 79  and f1 score:  0.9993610223642173\n",
      "random state : 80  and f1 score:  0.9987212276214833\n",
      "random state : 81  and f1 score:  0.9967969250480461\n",
      "random state : 82  and f1 score:  0.9955099422706863\n",
      "random state : 83  and f1 score:  0.9980806142034548\n",
      "random state : 84  and f1 score:  0.9980806142034548\n",
      "random state : 85  and f1 score:  0.9980806142034548\n",
      "random state : 86  and f1 score:  0.9980806142034548\n",
      "random state : 87  and f1 score:  0.9987212276214833\n",
      "random state : 88  and f1 score:  0.9955099422706863\n",
      "random state : 89  and f1 score:  0.9974391805377721\n",
      "random state : 90  and f1 score:  0.9967969250480461\n",
      "random state : 91  and f1 score:  0.9987212276214833\n",
      "random state : 92  and f1 score:  0.9974391805377721\n",
      "random state : 93  and f1 score:  0.9974391805377721\n",
      "random state : 94  and f1 score:  0.9980806142034548\n",
      "random state : 95  and f1 score:  0.9961538461538463\n",
      "random state : 96  and f1 score:  0.9967969250480461\n",
      "random state : 97  and f1 score:  0.993573264781491\n",
      "random state : 98  and f1 score:  0.9961538461538463\n",
      "random state : 99  and f1 score:  0.9974391805377721\n",
      "maximum f1_score is at random state : 46  and it is : 0.9993610223642173\n"
     ]
    }
   ],
   "source": [
    "from sklearn.svm import SVC\n",
    "svc=SVC()\n",
    "maxf1_score(svc,df_x,df_y)"
   ]
  },
  {
   "cell_type": "code",
   "execution_count": 61,
   "metadata": {},
   "outputs": [
    {
     "name": "stdout",
     "output_type": "stream",
     "text": [
      "Mean f1 score  0.8718342690231744\n",
      "[0.71369975 0.99936102 0.93396869 1.         0.71214188]\n"
     ]
    }
   ],
   "source": [
    "print(\"Mean f1 score \",cross_val_score(svc,df_x,df_y,cv=5,scoring=\"f1\").mean())\n",
    "print(cross_val_score(svc,df_x,df_y,cv=5,scoring=\"f1\"))"
   ]
  },
  {
   "cell_type": "code",
   "execution_count": 63,
   "metadata": {},
   "outputs": [],
   "source": [
    "#Using DCT\n",
    "x_train,x_test,y_train,y_test=train_test_split(df_x,df_y,random_state = 42,test_size=0.20)\n",
    "dct.fit(x_train,y_train)\n",
    "y_pred=dct.predict(x_test)"
   ]
  },
  {
   "cell_type": "code",
   "execution_count": 64,
   "metadata": {},
   "outputs": [
    {
     "name": "stdout",
     "output_type": "stream",
     "text": [
      "[[843   0]\n",
      " [  0 782]]\n",
      "1.0\n",
      "              precision    recall  f1-score   support\n",
      "\n",
      "           0       1.00      1.00      1.00       843\n",
      "           1       1.00      1.00      1.00       782\n",
      "\n",
      "    accuracy                           1.00      1625\n",
      "   macro avg       1.00      1.00      1.00      1625\n",
      "weighted avg       1.00      1.00      1.00      1625\n",
      "\n"
     ]
    }
   ],
   "source": [
    "from sklearn.metrics import confusion_matrix\n",
    "from sklearn.metrics import classification_report\n",
    "from sklearn.metrics import f1_score\n",
    "\n",
    "print(confusion_matrix(y_test,y_pred))\n",
    "print(f1_score(y_test,y_pred))\n",
    "print(classification_report(y_test,y_pred))"
   ]
  },
  {
   "cell_type": "code",
   "execution_count": null,
   "metadata": {},
   "outputs": [],
   "source": []
  }
 ],
 "metadata": {
  "kernelspec": {
   "display_name": "Python 3",
   "language": "python",
   "name": "python3"
  },
  "language_info": {
   "codemirror_mode": {
    "name": "ipython",
    "version": 3
   },
   "file_extension": ".py",
   "mimetype": "text/x-python",
   "name": "python",
   "nbconvert_exporter": "python",
   "pygments_lexer": "ipython3",
   "version": "3.7.4"
  }
 },
 "nbformat": 4,
 "nbformat_minor": 2
}
